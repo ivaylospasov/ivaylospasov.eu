{
 "cells": [
  {
   "cell_type": "code",
   "execution_count": null,
   "id": "51fe7782-2616-410a-aad7-542ae62cc6dc",
   "metadata": {},
   "outputs": [],
   "source": [
    "import pandas as pd\n",
    "import numpy as np\n",
    "import matplotlib.pyplot as plt"
   ]
  },
  {
   "cell_type": "code",
   "execution_count": null,
   "id": "42299d7b-361f-4479-879f-9902c89e3c0c",
   "metadata": {},
   "outputs": [],
   "source": [
    "# Зареждане на данните\n",
    "administracii = pd.read_csv('data/oblastni_administracii_2020_2023.csv')"
   ]
  },
  {
   "cell_type": "code",
   "execution_count": null,
   "id": "2abb07e8",
   "metadata": {},
   "outputs": [],
   "source": [
    "# Избор на колони за групиране\n",
    "izbrani_koloni = ['Период', 'Услуга №', 'Общ брой', 'Брой е-услуги']\n",
    "za_grupirane = administracii[izbrani_koloni]\n",
    "za_grupirane[\"Брой е-услуги\"] = za_grupirane[\"Брой е-услуги\"].fillna(0).astype(\"int64\")"
   ]
  },
  {
   "cell_type": "code",
   "execution_count": null,
   "id": "e765362b",
   "metadata": {},
   "outputs": [],
   "source": [
    "# za_grupirane[\"Брой е-услуги\"] = za_grupirane[\"Брой е-услуги\"].fillna(0).astype(\"int64\")"
   ]
  },
  {
   "cell_type": "code",
   "execution_count": null,
   "id": "6e897caa",
   "metadata": {},
   "outputs": [],
   "source": [
    "# Групиране по услуга\n",
    "grupirani_po_usluga = za_grupirane.groupby([\"Период\", \"Услуга №\"])"
   ]
  },
  {
   "cell_type": "code",
   "execution_count": null,
   "id": "e0fafdc7",
   "metadata": {},
   "outputs": [],
   "source": [
    "#| label: tbl-broi-uslugi\n",
    "#| tbl-cap: \"Предоставени АУ за периода 2020-2023 г.\"\n",
    "broi_uslugi = grupirani_po_usluga.sum()\n",
    "pd.set_option('display.max.rows', 96)\n",
    "broi_uslugi.style.set_properties(**{'text-align': 'right'})"
   ]
  },
  {
   "cell_type": "code",
   "execution_count": null,
   "id": "2d3b8ef9",
   "metadata": {},
   "outputs": [],
   "source": [
    "# Изброяване на услугите, предоставяни от областните администрации\n"
   ]
  }
 ],
 "metadata": {
  "kernelspec": {
   "display_name": "Python 3 (ipykernel)",
   "language": "python",
   "name": "python3"
  },
  "language_info": {
   "codemirror_mode": {
    "name": "ipython",
    "version": 3
   },
   "file_extension": ".py",
   "mimetype": "text/x-python",
   "name": "python",
   "nbconvert_exporter": "python",
   "pygments_lexer": "ipython3",
   "version": "3.12.5"
  }
 },
 "nbformat": 4,
 "nbformat_minor": 5
}
