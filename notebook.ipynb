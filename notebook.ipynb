{
 "cells": [
  {
   "cell_type": "code",
   "execution_count": 1,
   "id": "51fe7782-2616-410a-aad7-542ae62cc6dc",
   "metadata": {},
   "outputs": [],
   "source": [
    "import pandas as pd\n",
    "import numpy as np\n",
    "import matplotlib.pyplot as plt"
   ]
  },
  {
   "cell_type": "code",
   "execution_count": 2,
   "id": "42299d7b-361f-4479-879f-9902c89e3c0c",
   "metadata": {},
   "outputs": [],
   "source": [
    "# Зареждане на данните\n",
    "administracii = pd.read_pickle('data/oblastni_administracii_2020_2023.pkl')"
   ]
  },
  {
   "cell_type": "code",
   "execution_count": 6,
   "id": "2abb07e8",
   "metadata": {},
   "outputs": [
    {
     "name": "stderr",
     "output_type": "stream",
     "text": [
      "C:\\Users\\i_spa\\AppData\\Local\\Temp\\ipykernel_13980\\3210984945.py:4: SettingWithCopyWarning: \n",
      "A value is trying to be set on a copy of a slice from a DataFrame.\n",
      "Try using .loc[row_indexer,col_indexer] = value instead\n",
      "\n",
      "See the caveats in the documentation: https://pandas.pydata.org/pandas-docs/stable/user_guide/indexing.html#returning-a-view-versus-a-copy\n",
      "  za_grupirane[\"Брой е-услуги\"] = za_grupirane[\"Брой е-услуги\"].fillna(0).astype(\"int64\")\n"
     ]
    }
   ],
   "source": [
    "# Избор на колони за групиране\n",
    "izbrani_koloni = ['Услуга №', 'Общ брой', 'Брой е-услуги']\n",
    "za_grupirane = administracii[izbrani_koloni]\n",
    "za_grupirane[\"Брой е-услуги\"] = za_grupirane[\"Брой е-услуги\"].fillna(0).astype(\"int64\")"
   ]
  },
  {
   "cell_type": "code",
   "execution_count": null,
   "id": "e765362b",
   "metadata": {},
   "outputs": [],
   "source": [
    "# za_grupirane[\"Брой е-услуги\"] = za_grupirane[\"Брой е-услуги\"].fillna(0).astype(\"int64\")"
   ]
  },
  {
   "cell_type": "code",
   "execution_count": 7,
   "id": "6e897caa",
   "metadata": {},
   "outputs": [],
   "source": [
    "# Групиране по услуга\n",
    "grupirani_po_usluga = za_grupirane.groupby(\"Услуга №\")"
   ]
  },
  {
   "cell_type": "code",
   "execution_count": 8,
   "id": "e0fafdc7",
   "metadata": {},
   "outputs": [
    {
     "data": {
      "text/html": [
       "<style type=\"text/css\">\n",
       "#T_4552e_row0_col0, #T_4552e_row0_col1, #T_4552e_row1_col0, #T_4552e_row1_col1, #T_4552e_row2_col0, #T_4552e_row2_col1, #T_4552e_row3_col0, #T_4552e_row3_col1, #T_4552e_row4_col0, #T_4552e_row4_col1, #T_4552e_row5_col0, #T_4552e_row5_col1, #T_4552e_row6_col0, #T_4552e_row6_col1, #T_4552e_row7_col0, #T_4552e_row7_col1, #T_4552e_row8_col0, #T_4552e_row8_col1, #T_4552e_row9_col0, #T_4552e_row9_col1, #T_4552e_row10_col0, #T_4552e_row10_col1, #T_4552e_row11_col0, #T_4552e_row11_col1, #T_4552e_row12_col0, #T_4552e_row12_col1, #T_4552e_row13_col0, #T_4552e_row13_col1, #T_4552e_row14_col0, #T_4552e_row14_col1, #T_4552e_row15_col0, #T_4552e_row15_col1, #T_4552e_row16_col0, #T_4552e_row16_col1, #T_4552e_row17_col0, #T_4552e_row17_col1, #T_4552e_row18_col0, #T_4552e_row18_col1, #T_4552e_row19_col0, #T_4552e_row19_col1, #T_4552e_row20_col0, #T_4552e_row20_col1, #T_4552e_row21_col0, #T_4552e_row21_col1, #T_4552e_row22_col0, #T_4552e_row22_col1, #T_4552e_row23_col0, #T_4552e_row23_col1 {\n",
       "  text-align: right;\n",
       "}\n",
       "</style>\n",
       "<table id=\"T_4552e\">\n",
       "  <thead>\n",
       "    <tr>\n",
       "      <th class=\"blank level0\" >&nbsp;</th>\n",
       "      <th id=\"T_4552e_level0_col0\" class=\"col_heading level0 col0\" >Общ брой</th>\n",
       "      <th id=\"T_4552e_level0_col1\" class=\"col_heading level0 col1\" >Брой е-услуги</th>\n",
       "    </tr>\n",
       "    <tr>\n",
       "      <th class=\"index_name level0\" >Услуга №</th>\n",
       "      <th class=\"blank col0\" >&nbsp;</th>\n",
       "      <th class=\"blank col1\" >&nbsp;</th>\n",
       "    </tr>\n",
       "  </thead>\n",
       "  <tbody>\n",
       "    <tr>\n",
       "      <th id=\"T_4552e_level0_row0\" class=\"row_heading level0 row0\" >2</th>\n",
       "      <td id=\"T_4552e_row0_col0\" class=\"data row0 col0\" >956</td>\n",
       "      <td id=\"T_4552e_row0_col1\" class=\"data row0 col1\" >433</td>\n",
       "    </tr>\n",
       "    <tr>\n",
       "      <th id=\"T_4552e_level0_row1\" class=\"row_heading level0 row1\" >1961</th>\n",
       "      <td id=\"T_4552e_row1_col0\" class=\"data row1 col0\" >76</td>\n",
       "      <td id=\"T_4552e_row1_col1\" class=\"data row1 col1\" >13</td>\n",
       "    </tr>\n",
       "    <tr>\n",
       "      <th id=\"T_4552e_level0_row2\" class=\"row_heading level0 row2\" >1962</th>\n",
       "      <td id=\"T_4552e_row2_col0\" class=\"data row2 col0\" >20</td>\n",
       "      <td id=\"T_4552e_row2_col1\" class=\"data row2 col1\" >0</td>\n",
       "    </tr>\n",
       "    <tr>\n",
       "      <th id=\"T_4552e_level0_row3\" class=\"row_heading level0 row3\" >1963</th>\n",
       "      <td id=\"T_4552e_row3_col0\" class=\"data row3 col0\" >11687</td>\n",
       "      <td id=\"T_4552e_row3_col1\" class=\"data row3 col1\" >187</td>\n",
       "    </tr>\n",
       "    <tr>\n",
       "      <th id=\"T_4552e_level0_row4\" class=\"row_heading level0 row4\" >1966</th>\n",
       "      <td id=\"T_4552e_row4_col0\" class=\"data row4 col0\" >20</td>\n",
       "      <td id=\"T_4552e_row4_col1\" class=\"data row4 col1\" >0</td>\n",
       "    </tr>\n",
       "    <tr>\n",
       "      <th id=\"T_4552e_level0_row5\" class=\"row_heading level0 row5\" >1967</th>\n",
       "      <td id=\"T_4552e_row5_col0\" class=\"data row5 col0\" >36</td>\n",
       "      <td id=\"T_4552e_row5_col1\" class=\"data row5 col1\" >0</td>\n",
       "    </tr>\n",
       "    <tr>\n",
       "      <th id=\"T_4552e_level0_row6\" class=\"row_heading level0 row6\" >1968</th>\n",
       "      <td id=\"T_4552e_row6_col0\" class=\"data row6 col0\" >11</td>\n",
       "      <td id=\"T_4552e_row6_col1\" class=\"data row6 col1\" >0</td>\n",
       "    </tr>\n",
       "    <tr>\n",
       "      <th id=\"T_4552e_level0_row7\" class=\"row_heading level0 row7\" >1969</th>\n",
       "      <td id=\"T_4552e_row7_col0\" class=\"data row7 col0\" >79</td>\n",
       "      <td id=\"T_4552e_row7_col1\" class=\"data row7 col1\" >3</td>\n",
       "    </tr>\n",
       "    <tr>\n",
       "      <th id=\"T_4552e_level0_row8\" class=\"row_heading level0 row8\" >1972</th>\n",
       "      <td id=\"T_4552e_row8_col0\" class=\"data row8 col0\" >86517</td>\n",
       "      <td id=\"T_4552e_row8_col1\" class=\"data row8 col1\" >6149</td>\n",
       "    </tr>\n",
       "    <tr>\n",
       "      <th id=\"T_4552e_level0_row9\" class=\"row_heading level0 row9\" >1974</th>\n",
       "      <td id=\"T_4552e_row9_col0\" class=\"data row9 col0\" >105</td>\n",
       "      <td id=\"T_4552e_row9_col1\" class=\"data row9 col1\" >1</td>\n",
       "    </tr>\n",
       "    <tr>\n",
       "      <th id=\"T_4552e_level0_row10\" class=\"row_heading level0 row10\" >1975</th>\n",
       "      <td id=\"T_4552e_row10_col0\" class=\"data row10 col0\" >11</td>\n",
       "      <td id=\"T_4552e_row10_col1\" class=\"data row10 col1\" >0</td>\n",
       "    </tr>\n",
       "    <tr>\n",
       "      <th id=\"T_4552e_level0_row11\" class=\"row_heading level0 row11\" >1976</th>\n",
       "      <td id=\"T_4552e_row11_col0\" class=\"data row11 col0\" >12</td>\n",
       "      <td id=\"T_4552e_row11_col1\" class=\"data row11 col1\" >0</td>\n",
       "    </tr>\n",
       "    <tr>\n",
       "      <th id=\"T_4552e_level0_row12\" class=\"row_heading level0 row12\" >1978</th>\n",
       "      <td id=\"T_4552e_row12_col0\" class=\"data row12 col0\" >9820</td>\n",
       "      <td id=\"T_4552e_row12_col1\" class=\"data row12 col1\" >132</td>\n",
       "    </tr>\n",
       "    <tr>\n",
       "      <th id=\"T_4552e_level0_row13\" class=\"row_heading level0 row13\" >1979</th>\n",
       "      <td id=\"T_4552e_row13_col0\" class=\"data row13 col0\" >3781</td>\n",
       "      <td id=\"T_4552e_row13_col1\" class=\"data row13 col1\" >68</td>\n",
       "    </tr>\n",
       "    <tr>\n",
       "      <th id=\"T_4552e_level0_row14\" class=\"row_heading level0 row14\" >1980</th>\n",
       "      <td id=\"T_4552e_row14_col0\" class=\"data row14 col0\" >23</td>\n",
       "      <td id=\"T_4552e_row14_col1\" class=\"data row14 col1\" >0</td>\n",
       "    </tr>\n",
       "    <tr>\n",
       "      <th id=\"T_4552e_level0_row15\" class=\"row_heading level0 row15\" >1981</th>\n",
       "      <td id=\"T_4552e_row15_col0\" class=\"data row15 col0\" >109</td>\n",
       "      <td id=\"T_4552e_row15_col1\" class=\"data row15 col1\" >3</td>\n",
       "    </tr>\n",
       "    <tr>\n",
       "      <th id=\"T_4552e_level0_row16\" class=\"row_heading level0 row16\" >1983</th>\n",
       "      <td id=\"T_4552e_row16_col0\" class=\"data row16 col0\" >1483</td>\n",
       "      <td id=\"T_4552e_row16_col1\" class=\"data row16 col1\" >8</td>\n",
       "    </tr>\n",
       "    <tr>\n",
       "      <th id=\"T_4552e_level0_row17\" class=\"row_heading level0 row17\" >1984</th>\n",
       "      <td id=\"T_4552e_row17_col0\" class=\"data row17 col0\" >8</td>\n",
       "      <td id=\"T_4552e_row17_col1\" class=\"data row17 col1\" >0</td>\n",
       "    </tr>\n",
       "    <tr>\n",
       "      <th id=\"T_4552e_level0_row18\" class=\"row_heading level0 row18\" >2133</th>\n",
       "      <td id=\"T_4552e_row18_col0\" class=\"data row18 col0\" >393</td>\n",
       "      <td id=\"T_4552e_row18_col1\" class=\"data row18 col1\" >21</td>\n",
       "    </tr>\n",
       "    <tr>\n",
       "      <th id=\"T_4552e_level0_row19\" class=\"row_heading level0 row19\" >2134</th>\n",
       "      <td id=\"T_4552e_row19_col0\" class=\"data row19 col0\" >384</td>\n",
       "      <td id=\"T_4552e_row19_col1\" class=\"data row19 col1\" >27</td>\n",
       "    </tr>\n",
       "    <tr>\n",
       "      <th id=\"T_4552e_level0_row20\" class=\"row_heading level0 row20\" >2389</th>\n",
       "      <td id=\"T_4552e_row20_col0\" class=\"data row20 col0\" >8</td>\n",
       "      <td id=\"T_4552e_row20_col1\" class=\"data row20 col1\" >0</td>\n",
       "    </tr>\n",
       "    <tr>\n",
       "      <th id=\"T_4552e_level0_row21\" class=\"row_heading level0 row21\" >2469</th>\n",
       "      <td id=\"T_4552e_row21_col0\" class=\"data row21 col0\" >109</td>\n",
       "      <td id=\"T_4552e_row21_col1\" class=\"data row21 col1\" >0</td>\n",
       "    </tr>\n",
       "    <tr>\n",
       "      <th id=\"T_4552e_level0_row22\" class=\"row_heading level0 row22\" >2529</th>\n",
       "      <td id=\"T_4552e_row22_col0\" class=\"data row22 col0\" >2</td>\n",
       "      <td id=\"T_4552e_row22_col1\" class=\"data row22 col1\" >0</td>\n",
       "    </tr>\n",
       "    <tr>\n",
       "      <th id=\"T_4552e_level0_row23\" class=\"row_heading level0 row23\" >2972</th>\n",
       "      <td id=\"T_4552e_row23_col0\" class=\"data row23 col0\" >184771</td>\n",
       "      <td id=\"T_4552e_row23_col1\" class=\"data row23 col1\" >0</td>\n",
       "    </tr>\n",
       "  </tbody>\n",
       "</table>\n"
      ],
      "text/plain": [
       "<pandas.io.formats.style.Styler at 0x2e4f8ec2630>"
      ]
     },
     "execution_count": 8,
     "metadata": {},
     "output_type": "execute_result"
    }
   ],
   "source": [
    "#| label: tbl-broi-uslugi\n",
    "#| tbl-cap: \"Предоставени АУ за периода 2020-2023 г.\"\n",
    "broi_uslugi = grupirani_po_usluga.sum()\n",
    "pd.set_option('display.max.rows', 96)\n",
    "broi_uslugi.style.set_properties(**{'text-align': 'right'})"
   ]
  },
  {
   "cell_type": "code",
   "execution_count": null,
   "id": "2d3b8ef9",
   "metadata": {},
   "outputs": [],
   "source": [
    "# Изброяване на услугите, предоставяни от областните администрации\n"
   ]
  }
 ],
 "metadata": {
  "kernelspec": {
   "display_name": "Python 3 (ipykernel)",
   "language": "python",
   "name": "python3"
  },
  "language_info": {
   "codemirror_mode": {
    "name": "ipython",
    "version": 3
   },
   "file_extension": ".py",
   "mimetype": "text/x-python",
   "name": "python",
   "nbconvert_exporter": "python",
   "pygments_lexer": "ipython3",
   "version": "3.12.4"
  }
 },
 "nbformat": 4,
 "nbformat_minor": 5
}
