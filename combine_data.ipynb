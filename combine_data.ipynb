{
 "cells": [
  {
   "cell_type": "code",
   "execution_count": null,
   "metadata": {},
   "outputs": [],
   "source": [
    "import pandas as pd"
   ]
  },
  {
   "cell_type": "code",
   "execution_count": null,
   "metadata": {},
   "outputs": [],
   "source": [
    "# Прочитане на excel файловете\n",
    "\n",
    "data_2020 = pd.read_excel('data/V.А.11.2020.xlsx', sheet_name=0)\n"
   ]
  },
  {
   "cell_type": "code",
   "execution_count": null,
   "metadata": {},
   "outputs": [],
   "source": [
    "data_2021 = pd.read_excel('data/V.А.11.2021.xlsx', sheet_name=0)\n"
   ]
  },
  {
   "cell_type": "code",
   "execution_count": null,
   "metadata": {},
   "outputs": [],
   "source": [
    "data_2022 = pd.read_excel('data/V.А.11.2022.xlsx', sheet_name=0)\n"
   ]
  },
  {
   "cell_type": "code",
   "execution_count": null,
   "metadata": {},
   "outputs": [],
   "source": [
    "data_2023 = pd.read_excel('data/V.А.11.2023.xlsx', sheet_name=0)"
   ]
  },
  {
   "cell_type": "code",
   "execution_count": null,
   "metadata": {},
   "outputs": [],
   "source": [
    "# Създаване на списък с базите данни\n",
    "\n",
    "frames = [data_2020, data_2021, data_2022, data_2023]"
   ]
  },
  {
   "cell_type": "code",
   "execution_count": null,
   "metadata": {},
   "outputs": [],
   "source": [
    "# Обединяване на базите данни\n",
    "\n",
    "result = pd.concat(frames)\n"
   ]
  },
  {
   "cell_type": "code",
   "execution_count": null,
   "metadata": {},
   "outputs": [],
   "source": [
    "# result.to_csv(\"data/V.A.11.2020-2023.csv\", index=False)\n",
    "# result.to_pickle(\"data/V.A.11.2020-2023.pkl\")"
   ]
  },
  {
   "cell_type": "code",
   "execution_count": null,
   "metadata": {},
   "outputs": [],
   "source": [
    "# Филтриране на базата данни по областна администрация\n",
    "\n",
    "filt = (result['Вид административна структура'] == 'Областна администрация')"
   ]
  },
  {
   "cell_type": "code",
   "execution_count": 30,
   "metadata": {},
   "outputs": [],
   "source": [
    "# Създаване на база данни само за областните администрации\n",
    "\n",
    "oblastni_adm = result.loc[filt]"
   ]
  },
  {
   "cell_type": "code",
   "execution_count": 31,
   "metadata": {},
   "outputs": [],
   "source": [
    "# Премахване на излишните колони\n",
    "\n",
    "oblastni_adm = oblastni_adm.drop(['Вид администрация на изпълнителната власт', 'Вид административна структура'], axis=1)"
   ]
  },
  {
   "cell_type": "code",
   "execution_count": null,
   "metadata": {},
   "outputs": [],
   "source": [
    "# Преименуване на някои от колоните\n",
    "\n",
    "oblastni_adm = oblastni_adm.rename(columns={\n",
    "    \"Отчетен период\": \"Период\",\n",
    "    \"Номер на услуга/режим\": \"Услуга №\",\n",
    "    \"Административна услуга\": \"Услуга\",\n",
    "    \"Брой услуги, предоставени по електронен път\": \"Брой е-услуги\"\n",
    "})"
   ]
  },
  {
   "cell_type": "code",
   "execution_count": null,
   "metadata": {},
   "outputs": [],
   "source": [
    "# Освобождаване на променливите от паметта\n",
    "\n",
    "del data_2020\n",
    "del data_2021\n",
    "del data_2022\n",
    "del data_2023\n",
    "del result\n",
    "del frames"
   ]
  },
  {
   "cell_type": "code",
   "execution_count": null,
   "metadata": {},
   "outputs": [],
   "source": [
    "# Създаване на база дани в CSV формат\n",
    "oblastni_adm.to_csv(\"data/oblastni_administracii_2020_2023.csv\", index=False)"
   ]
  },
  {
   "cell_type": "code",
   "execution_count": null,
   "metadata": {},
   "outputs": [],
   "source": [
    "# Създаване на база данни в Pickle формат\n",
    "oblastni_adm.to_pickle(\"data/oblastni_administracii_2020_2023.pkl\")"
   ]
  },
  {
   "cell_type": "code",
   "execution_count": null,
   "metadata": {},
   "outputs": [],
   "source": [
    "# Освобождаване и на последната променлива\n",
    "del oblastni_adm"
   ]
  }
 ],
 "metadata": {
  "kernelspec": {
   "display_name": ".venv",
   "language": "python",
   "name": "python3"
  },
  "language_info": {
   "codemirror_mode": {
    "name": "ipython",
    "version": 3
   },
   "file_extension": ".py",
   "mimetype": "text/x-python",
   "name": "python",
   "nbconvert_exporter": "python",
   "pygments_lexer": "ipython3",
   "version": "3.12.5"
  }
 },
 "nbformat": 4,
 "nbformat_minor": 2
}
